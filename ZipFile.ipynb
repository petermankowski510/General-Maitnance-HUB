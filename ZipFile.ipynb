{
 "cells": [
  {
   "cell_type": "code",
   "execution_count": 1,
   "metadata": {},
   "outputs": [],
   "source": [
    "from zipfile import ZipFile \n",
    "import subprocess, sys\n",
    "import os\n",
    "\n",
    "# specifying the zip file name \n",
    "file_name = \"C:/Users/seeho/data/zip_9MB.zip\"\n",
    "destinationDirectory = \"C:/Users/seeho/data\"\n",
    "  \n",
    "def Unzip(zipFile, destinationDirectory):\n",
    "    try:\n",
    "        with ZipFile(zipFile, 'r') as zipObj:\n",
    "            # Extract all the contents of zip file in different directory\n",
    "            zipObj.extractall(destinationDirectory)\n",
    "            print(\"Success extract using .zip\")\n",
    "    except:\n",
    "        print(\"An exception occurred extracting with Python ZipFile library.\")\n",
    "        print(\"Attempting to extract using 7zip\")\n",
    "        subprocess.Popen([\"7z\", \"e\", f\"{zipFile}\", f\"-o{destinationDirectory}\", \"-y\"])"
   ]
  },
  {
   "cell_type": "code",
   "execution_count": 2,
   "metadata": {},
   "outputs": [
    {
     "name": "stdout",
     "output_type": "stream",
     "text": [
      "Success extract using .zip\n"
     ]
    }
   ],
   "source": [
    "Unzip(file_name, destinationDirectory)"
   ]
  },
  {
   "cell_type": "code",
   "execution_count": 3,
   "metadata": {},
   "outputs": [
    {
     "name": "stdout",
     "output_type": "stream",
     "text": [
      "Files and directories in ' C:/Users/seeho/data ' :\n",
      "['cifar-10-batches-py', 'datasets_2288_3869_amazon_cells_labelled.txt', 'datasets_2288_3869_imdb_labelled.txt', 'datasets_2288_3869_yelp_labelled.txt', 'MNIST', 'train', 'validation', 'zip_10MB', 'zip_9MB.zip']\n"
     ]
    }
   ],
   "source": [
    "dir_list = os.listdir(destinationDirectory)\n",
    "\n",
    "print(\"Files and directories in '\", destinationDirectory, \"' :\")  \n",
    "  \n",
    "# print the list \n",
    "print(dir_list) "
   ]
  },
  {
   "cell_type": "code",
   "execution_count": 4,
   "metadata": {},
   "outputs": [
    {
     "name": "stdout",
     "output_type": "stream",
     "text": [
      "Files and directories in ' ['file-example_PDF_1MB.pdf', 'file-sample_1MB.doc', 'file_example_ODS_5000.ods', 'file_example_PNG_2500kB.jpg', 'file_example_PPT_1MB.ppt', 'file_example_TIFF_10MB.tiff'] ' :\n"
     ]
    }
   ],
   "source": [
    "zip_10MB_dir_name = os.path.join(destinationDirectory, 'zip_10MB')\n",
    "dir_list = os.listdir(zip_10MB_dir_name)\n",
    "\n",
    "print(\"Files and directories in '\", dir_list, \"' :\")"
   ]
  }
 ],
 "metadata": {
  "kernelspec": {
   "display_name": "Python 3",
   "language": "python",
   "name": "python3"
  },
  "language_info": {
   "codemirror_mode": {
    "name": "ipython",
    "version": 3
   },
   "file_extension": ".py",
   "mimetype": "text/x-python",
   "name": "python",
   "nbconvert_exporter": "python",
   "pygments_lexer": "ipython3",
   "version": "3.7.4"
  }
 },
 "nbformat": 4,
 "nbformat_minor": 4
}
